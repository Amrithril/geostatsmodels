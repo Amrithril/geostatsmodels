{
 "metadata": {
  "name": "",
  "signature": "sha256:5eac44dfffbbbc228be654cf6d23b778b6f1fd2bab186acc7b2702d6de7bc97a"
 },
 "nbformat": 3,
 "nbformat_minor": 0,
 "worksheets": [
  {
   "cells": [
    {
     "cell_type": "markdown",
     "metadata": {},
     "source": [
      "This notebook is the reproduction of an exercise found at http://people.ku.edu/~gbohling/cpe940/Kriging.pdf"
     ]
    },
    {
     "cell_type": "code",
     "collapsed": false,
     "input": [
      "from geostatsmodels import utilities, variograms, models, kriging\n",
      "import pandas"
     ],
     "language": "python",
     "metadata": {},
     "outputs": [],
     "prompt_number": 1
    },
    {
     "cell_type": "markdown",
     "metadata": {},
     "source": [
      "We'll read the data from `ZoneA.dat`."
     ]
    },
    {
     "cell_type": "code",
     "collapsed": false,
     "input": [
      "ZoneA = utilities.readGeoEAS('ZoneA.dat')"
     ],
     "language": "python",
     "metadata": {},
     "outputs": [],
     "prompt_number": 2
    },
    {
     "cell_type": "markdown",
     "metadata": {},
     "source": [
      "We want the first, second and fourth columns of the data set, representing the x and y spatial coordinates, and the porosity."
     ]
    },
    {
     "cell_type": "code",
     "collapsed": true,
     "input": [
      "ZoneA = ZoneA[:,[0,1,3]]"
     ],
     "language": "python",
     "metadata": {},
     "outputs": [],
     "prompt_number": 3
    },
    {
     "cell_type": "markdown",
     "metadata": {},
     "source": [
      "We'll be interested in determining the porosity at a point (2000,4700)."
     ]
    },
    {
     "cell_type": "code",
     "collapsed": false,
     "input": [
      "pt = [ 2000, 4700 ]"
     ],
     "language": "python",
     "metadata": {},
     "outputs": [],
     "prompt_number": 4
    },
    {
     "cell_type": "markdown",
     "metadata": {},
     "source": [
      "We can plot our region of interest as follows:"
     ]
    },
    {
     "cell_type": "code",
     "collapsed": false,
     "input": [
      "scatter( ZoneA[:,0], ZoneA[:,1], c=ZoneA[:,2] )\n",
      "title('Zone A Subset % Porosity')\n",
      "colorbar()\n",
      "xmin, xmax = 0, 4250\n",
      "ymin, ymax = 3200, 6250\n",
      "xlim(xmin,xmax)\n",
      "ylim(ymin,ymax)\n",
      "for i in range( len( ZoneA[:,2] ) ):\n",
      "    x, y, z = ZoneA[i]\n",
      "    if( x < xmax )&( y > ymin )&( y < ymax ):\n",
      "        text( x+100, y, '{:4.2f}'.format( z ) ) \n",
      "scatter( pt[0], pt[1], c='none' )\n",
      "text( pt[0]+100 , pt[1], '?')\n",
      "xlabel('Easting (m)')\n",
      "ylabel('Northing (m)') ;"
     ],
     "language": "python",
     "metadata": {},
     "outputs": [
      {
       "metadata": {},
       "output_type": "display_data",
       "png": "[encoded data removed]",
       "text": [
        "<matplotlib.figure.Figure at 0x7fe19d4ac9d0>"
       ]
      }
     ],
     "prompt_number": 5
    },
    {
     "cell_type": "markdown",
     "metadata": {},
     "source": [
      "This function represents a spherical covariance model. We've used the global variance of the porosity in `ZoneA.dat` as the sill."
     ]
    },
    {
     "cell_type": "code",
     "collapsed": false,
     "input": [
      "covfct = lambda h : np.var(ZoneA[:,2])*( 1.0 - 1.5*( h/4141.0 ) + 0.5*( h/4141.0 )**3.0 )"
     ],
     "language": "python",
     "metadata": {},
     "outputs": [],
     "prompt_number": 6
    },
    {
     "cell_type": "markdown",
     "metadata": {},
     "source": [
      "We can then krige the data, using the covariance model, the point we are interested in, (2000,47000), and `N=6` signifying that we only want to use the six nearest points."
     ]
    },
    {
     "cell_type": "code",
     "collapsed": false,
     "input": [
      "kriging.simple( ZoneA, covfct, pt, N=6 )"
     ],
     "language": "python",
     "metadata": {},
     "outputs": [
      {
       "metadata": {},
       "output_type": "pyout",
       "prompt_number": 7,
       "text": [
        "12.829620852951395"
       ]
      }
     ],
     "prompt_number": 7
    },
    {
     "cell_type": "code",
     "collapsed": false,
     "input": [
      "kriging.ordinary( ZoneA, covfct, pt, N=6 )"
     ],
     "language": "python",
     "metadata": {},
     "outputs": [
      {
       "metadata": {},
       "output_type": "pyout",
       "prompt_number": 8,
       "text": [
        "12.93176626109423"
       ]
      }
     ],
     "prompt_number": 8
    },
    {
     "cell_type": "code",
     "collapsed": false,
     "input": [],
     "language": "python",
     "metadata": {},
     "outputs": []
    }
   ],
   "metadata": {}
  }
 ]
}
